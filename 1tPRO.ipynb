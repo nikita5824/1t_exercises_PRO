{
 "cells": [
  {
   "cell_type": "markdown",
   "metadata": {},
   "source": [
    "1. Написать программу, которая будет выводить на экран числа Фибоначчи до заданного числа."
   ]
  },
  {
   "cell_type": "code",
   "execution_count": 16,
   "metadata": {},
   "outputs": [
    {
     "name": "stdout",
     "output_type": "stream",
     "text": [
      "0\n",
      "1\n",
      "1\n",
      "2\n",
      "3\n",
      "5\n",
      "8\n",
      "13\n",
      "21\n",
      "34\n",
      "55\n",
      "89\n"
     ]
    }
   ],
   "source": [
    "def fibonacci_sequence(target_num: int):\n",
    "    nums = [0, 1]\n",
    "    print(nums[0])\n",
    "    \n",
    "    while nums[1] <= target_num:\n",
    "        print(nums[1])\n",
    "        temp = nums[0] + nums[1]\n",
    "        nums[0] = nums[1]\n",
    "        nums[1] = temp        \n",
    "        \n",
    "fibonacci_sequence(143)"
   ]
  },
  {
   "cell_type": "markdown",
   "metadata": {},
   "source": [
    "2. Напишите программу, которая на вход принимает список чисел и возвращает только уникальные значения из этого списка."
   ]
  },
  {
   "cell_type": "code",
   "execution_count": 25,
   "metadata": {},
   "outputs": [
    {
     "data": {
      "text/plain": [
       "[3, 4, 5, 6, 7, 9]"
      ]
     },
     "execution_count": 25,
     "metadata": {},
     "output_type": "execute_result"
    }
   ],
   "source": [
    "def unique_values(lst: list) -> set:\n",
    "    return list(set(lst))\n",
    "\n",
    "unique_values([4,3,5,4,4,4,4,6,6,3,9,7,7])"
   ]
  },
  {
   "cell_type": "markdown",
   "metadata": {},
   "source": [
    "3. Напишите программу, которая переводит температуру в градусах Фаренгейта в градусы Цельсия."
   ]
  },
  {
   "cell_type": "code",
   "execution_count": 26,
   "metadata": {},
   "outputs": [
    {
     "data": {
      "text/plain": [
       "18.33"
      ]
     },
     "execution_count": 26,
     "metadata": {},
     "output_type": "execute_result"
    }
   ],
   "source": [
    "def fahrenheit_2_celsius(fahrenheit: float) -> float:\n",
    "    return round((fahrenheit - 32) / 1.8, 2)\n",
    "\n",
    "fahrenheit_2_celsius(65)"
   ]
  },
  {
   "cell_type": "markdown",
   "metadata": {},
   "source": [
    "4. Напишите программу, которая проверяет, является ли строка палиндромом без использования стандартных методов."
   ]
  },
  {
   "cell_type": "code",
   "execution_count": 56,
   "metadata": {},
   "outputs": [
    {
     "data": {
      "text/plain": [
       "True"
      ]
     },
     "execution_count": 56,
     "metadata": {},
     "output_type": "execute_result"
    }
   ],
   "source": [
    "def to_palindrome(word: str) -> bool:\n",
    "    length = 0\n",
    "    for i in word:\n",
    "        length += 1\n",
    "    \n",
    "    if length % 2 == 0:\n",
    "        if word[:int(length / 2)] == word[-1:int((length / 2) - 1):-1]:\n",
    "            return True\n",
    "        else: \n",
    "            return False\n",
    "    else:\n",
    "        w1 = word[:int(length / 2)]\n",
    "        w2 = word[-1:int(int(length / 2)):-1]\n",
    "        \n",
    "        if word[:int(length / 2)] == word[-1:int(int(length / 2)):-1]:\n",
    "            return True\n",
    "        else: \n",
    "            return False\n",
    "    \n",
    "    \n",
    "    return word[-1:int((length / 2) - 1):-1]\n",
    "\n",
    "to_palindrome('AbcdefedcbA')"
   ]
  }
 ],
 "metadata": {
  "kernelspec": {
   "display_name": "Python 3",
   "language": "python",
   "name": "python3"
  },
  "language_info": {
   "codemirror_mode": {
    "name": "ipython",
    "version": 3
   },
   "file_extension": ".py",
   "mimetype": "text/x-python",
   "name": "python",
   "nbconvert_exporter": "python",
   "pygments_lexer": "ipython3",
   "version": "3.11.2"
  },
  "orig_nbformat": 4
 },
 "nbformat": 4,
 "nbformat_minor": 2
}
